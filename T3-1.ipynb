{
 "cells": [
  {
   "cell_type": "code",
   "execution_count": 1,
   "id": "27dd7d16",
   "metadata": {},
   "outputs": [],
   "source": [
    "from scipy.stats import ttest_1samp\n",
    "\n",
    "# 데이터\n",
    "scores = [75, 80, 68, 72, 77, 82, 81, 79, 70, 74, 76, 78, 81, 73, 81, 78, 75, 72, 74, 79, 78, 79]\n",
    "\n",
    "# 모평균 가설검정\n",
    "mu = 75  # 검정할 모평균\n",
    "alpha = 0.05  # 유의수준\n"
   ]
  },
  {
   "cell_type": "code",
   "execution_count": null,
   "id": "65c0da26",
   "metadata": {},
   "outputs": [],
   "source": [
    "t_statistic, p_value = ttest_1samp(scores, mu, alternative='greater')\n",
    "\n",
    "print(\"t-statistic\", t_statistic)\n",
    "print(\"p-value : \", p_value)\n",
    "\n",
    "if p_value < alpha :\n",
    "    print(\"귀무가설 기각, 모평균은 75보다 크다.\")\n",
    "else :\n",
    "    print(\"귀무가설 채택. 모평균은 크지않다.\")"
   ]
  }
 ],
 "metadata": {
  "kernelspec": {
   "display_name": "base",
   "language": "python",
   "name": "python3"
  },
  "language_info": {
   "codemirror_mode": {
    "name": "ipython",
    "version": 3
   },
   "file_extension": ".py",
   "mimetype": "text/x-python",
   "name": "python",
   "nbconvert_exporter": "python",
   "pygments_lexer": "ipython3",
   "version": "3.12.4"
  }
 },
 "nbformat": 4,
 "nbformat_minor": 5
}
