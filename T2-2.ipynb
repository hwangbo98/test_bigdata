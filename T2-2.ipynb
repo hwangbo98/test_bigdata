{
 "cells": [
  {
   "cell_type": "code",
   "execution_count": 1,
   "id": "1d66e99b",
   "metadata": {},
   "outputs": [],
   "source": [
    "import pandas as pd\n",
    "import numpy as np"
   ]
  },
  {
   "cell_type": "code",
   "execution_count": 2,
   "id": "91789e2a",
   "metadata": {},
   "outputs": [
    {
     "data": {
      "text/plain": [
       "((576, 10), (192, 9))"
      ]
     },
     "execution_count": 2,
     "metadata": {},
     "output_type": "execute_result"
    }
   ],
   "source": [
    "train = pd.read_csv(\"archive/diabetes_train.csv\")\n",
    "test = pd.read_csv(\"archive/diabetes_test.csv\")\n",
    "\n",
    "train.shape, test.shape"
   ]
  },
  {
   "cell_type": "code",
   "execution_count": 3,
   "id": "e911a011",
   "metadata": {},
   "outputs": [
    {
     "data": {
      "text/html": [
       "<div>\n",
       "<style scoped>\n",
       "    .dataframe tbody tr th:only-of-type {\n",
       "        vertical-align: middle;\n",
       "    }\n",
       "\n",
       "    .dataframe tbody tr th {\n",
       "        vertical-align: top;\n",
       "    }\n",
       "\n",
       "    .dataframe thead th {\n",
       "        text-align: right;\n",
       "    }\n",
       "</style>\n",
       "<table border=\"1\" class=\"dataframe\">\n",
       "  <thead>\n",
       "    <tr style=\"text-align: right;\">\n",
       "      <th></th>\n",
       "      <th>id</th>\n",
       "      <th>Pregnancies</th>\n",
       "      <th>Glucose</th>\n",
       "      <th>BloodPressure</th>\n",
       "      <th>SkinThickness</th>\n",
       "      <th>Insulin</th>\n",
       "      <th>BMI</th>\n",
       "      <th>DiabetesPedigreeFunction</th>\n",
       "      <th>Age</th>\n",
       "      <th>Outcome</th>\n",
       "    </tr>\n",
       "  </thead>\n",
       "  <tbody>\n",
       "    <tr>\n",
       "      <th>0</th>\n",
       "      <td>377</td>\n",
       "      <td>1</td>\n",
       "      <td>87</td>\n",
       "      <td>60</td>\n",
       "      <td>37</td>\n",
       "      <td>75</td>\n",
       "      <td>37.2</td>\n",
       "      <td>0.509</td>\n",
       "      <td>22</td>\n",
       "      <td>0</td>\n",
       "    </tr>\n",
       "    <tr>\n",
       "      <th>1</th>\n",
       "      <td>370</td>\n",
       "      <td>3</td>\n",
       "      <td>173</td>\n",
       "      <td>82</td>\n",
       "      <td>48</td>\n",
       "      <td>465</td>\n",
       "      <td>38.4</td>\n",
       "      <td>2.137</td>\n",
       "      <td>25</td>\n",
       "      <td>1</td>\n",
       "    </tr>\n",
       "    <tr>\n",
       "      <th>2</th>\n",
       "      <td>408</td>\n",
       "      <td>8</td>\n",
       "      <td>197</td>\n",
       "      <td>74</td>\n",
       "      <td>0</td>\n",
       "      <td>0</td>\n",
       "      <td>25.9</td>\n",
       "      <td>1.191</td>\n",
       "      <td>39</td>\n",
       "      <td>1</td>\n",
       "    </tr>\n",
       "    <tr>\n",
       "      <th>3</th>\n",
       "      <td>535</td>\n",
       "      <td>4</td>\n",
       "      <td>132</td>\n",
       "      <td>0</td>\n",
       "      <td>0</td>\n",
       "      <td>0</td>\n",
       "      <td>32.9</td>\n",
       "      <td>0.302</td>\n",
       "      <td>23</td>\n",
       "      <td>1</td>\n",
       "    </tr>\n",
       "    <tr>\n",
       "      <th>4</th>\n",
       "      <td>691</td>\n",
       "      <td>13</td>\n",
       "      <td>158</td>\n",
       "      <td>114</td>\n",
       "      <td>0</td>\n",
       "      <td>0</td>\n",
       "      <td>42.3</td>\n",
       "      <td>0.257</td>\n",
       "      <td>44</td>\n",
       "      <td>1</td>\n",
       "    </tr>\n",
       "  </tbody>\n",
       "</table>\n",
       "</div>"
      ],
      "text/plain": [
       "    id  Pregnancies  Glucose  BloodPressure  SkinThickness  Insulin   BMI  \\\n",
       "0  377            1       87             60             37       75  37.2   \n",
       "1  370            3      173             82             48      465  38.4   \n",
       "2  408            8      197             74              0        0  25.9   \n",
       "3  535            4      132              0              0        0  32.9   \n",
       "4  691           13      158            114              0        0  42.3   \n",
       "\n",
       "   DiabetesPedigreeFunction  Age  Outcome  \n",
       "0                     0.509   22        0  \n",
       "1                     2.137   25        1  \n",
       "2                     1.191   39        1  \n",
       "3                     0.302   23        1  \n",
       "4                     0.257   44        1  "
      ]
     },
     "execution_count": 3,
     "metadata": {},
     "output_type": "execute_result"
    }
   ],
   "source": [
    "train.head()\n"
   ]
  },
  {
   "cell_type": "code",
   "execution_count": 4,
   "id": "63ba4565",
   "metadata": {},
   "outputs": [
    {
     "name": "stdout",
     "output_type": "stream",
     "text": [
      "<class 'pandas.core.frame.DataFrame'>\n",
      "RangeIndex: 576 entries, 0 to 575\n",
      "Data columns (total 10 columns):\n",
      " #   Column                    Non-Null Count  Dtype  \n",
      "---  ------                    --------------  -----  \n",
      " 0   id                        576 non-null    int64  \n",
      " 1   Pregnancies               576 non-null    int64  \n",
      " 2   Glucose                   576 non-null    int64  \n",
      " 3   BloodPressure             576 non-null    int64  \n",
      " 4   SkinThickness             576 non-null    int64  \n",
      " 5   Insulin                   576 non-null    int64  \n",
      " 6   BMI                       576 non-null    float64\n",
      " 7   DiabetesPedigreeFunction  576 non-null    float64\n",
      " 8   Age                       576 non-null    int64  \n",
      " 9   Outcome                   576 non-null    int64  \n",
      "dtypes: float64(2), int64(8)\n",
      "memory usage: 45.1 KB\n"
     ]
    }
   ],
   "source": [
    "train.info()"
   ]
  },
  {
   "cell_type": "code",
   "execution_count": 5,
   "id": "8ae36b5b",
   "metadata": {},
   "outputs": [
    {
     "data": {
      "text/plain": [
       "id                          0\n",
       "Pregnancies                 0\n",
       "Glucose                     0\n",
       "BloodPressure               0\n",
       "SkinThickness               0\n",
       "Insulin                     0\n",
       "BMI                         0\n",
       "DiabetesPedigreeFunction    0\n",
       "Age                         0\n",
       "Outcome                     0\n",
       "dtype: int64"
      ]
     },
     "execution_count": 5,
     "metadata": {},
     "output_type": "execute_result"
    }
   ],
   "source": [
    "train.isnull().sum()"
   ]
  },
  {
   "cell_type": "code",
   "execution_count": 6,
   "id": "9e30bfe5",
   "metadata": {},
   "outputs": [
    {
     "data": {
      "text/plain": [
       "id                          0\n",
       "Pregnancies                 0\n",
       "Glucose                     0\n",
       "BloodPressure               0\n",
       "SkinThickness               0\n",
       "Insulin                     0\n",
       "BMI                         0\n",
       "DiabetesPedigreeFunction    0\n",
       "Age                         0\n",
       "dtype: int64"
      ]
     },
     "execution_count": 6,
     "metadata": {},
     "output_type": "execute_result"
    }
   ],
   "source": [
    "test.isnull().sum()"
   ]
  },
  {
   "cell_type": "code",
   "execution_count": 7,
   "id": "9bb29d67",
   "metadata": {},
   "outputs": [],
   "source": [
    "from sklearn.preprocessing import StandardScaler\n",
    "\n",
    "sc = StandardScaler()\n",
    "\n",
    "cols = ['Pregnancies', 'Glucose', 'BloodPressure', 'SkinThickness', 'Insulin',\n",
    "        'BMI', 'DiabetesPedigreeFunction', 'Age']\n",
    "\n",
    "train[cols] = sc.fit_transform(train[cols])\n",
    "test[cols] = sc.fit_transform(test[cols])\n",
    "\n"
   ]
  },
  {
   "cell_type": "code",
   "execution_count": 8,
   "id": "3c63485c",
   "metadata": {},
   "outputs": [
    {
     "data": {
      "text/html": [
       "<div>\n",
       "<style scoped>\n",
       "    .dataframe tbody tr th:only-of-type {\n",
       "        vertical-align: middle;\n",
       "    }\n",
       "\n",
       "    .dataframe tbody tr th {\n",
       "        vertical-align: top;\n",
       "    }\n",
       "\n",
       "    .dataframe thead th {\n",
       "        text-align: right;\n",
       "    }\n",
       "</style>\n",
       "<table border=\"1\" class=\"dataframe\">\n",
       "  <thead>\n",
       "    <tr style=\"text-align: right;\">\n",
       "      <th></th>\n",
       "      <th>id</th>\n",
       "      <th>Pregnancies</th>\n",
       "      <th>Glucose</th>\n",
       "      <th>BloodPressure</th>\n",
       "      <th>SkinThickness</th>\n",
       "      <th>Insulin</th>\n",
       "      <th>BMI</th>\n",
       "      <th>DiabetesPedigreeFunction</th>\n",
       "      <th>Age</th>\n",
       "      <th>Outcome</th>\n",
       "    </tr>\n",
       "  </thead>\n",
       "  <tbody>\n",
       "    <tr>\n",
       "      <th>0</th>\n",
       "      <td>377</td>\n",
       "      <td>-0.846722</td>\n",
       "      <td>-1.037009</td>\n",
       "      <td>-0.419767</td>\n",
       "      <td>1.000802</td>\n",
       "      <td>-0.061847</td>\n",
       "      <td>0.687444</td>\n",
       "      <td>0.086445</td>\n",
       "      <td>-0.949139</td>\n",
       "      <td>0</td>\n",
       "    </tr>\n",
       "    <tr>\n",
       "      <th>1</th>\n",
       "      <td>370</td>\n",
       "      <td>-0.255914</td>\n",
       "      <td>1.651637</td>\n",
       "      <td>0.676768</td>\n",
       "      <td>1.691778</td>\n",
       "      <td>3.319349</td>\n",
       "      <td>0.841447</td>\n",
       "      <td>4.828849</td>\n",
       "      <td>-0.698357</td>\n",
       "      <td>1</td>\n",
       "    </tr>\n",
       "    <tr>\n",
       "      <th>2</th>\n",
       "      <td>408</td>\n",
       "      <td>1.221105</td>\n",
       "      <td>2.401957</td>\n",
       "      <td>0.278028</td>\n",
       "      <td>-1.323388</td>\n",
       "      <td>-0.712077</td>\n",
       "      <td>-0.762752</td>\n",
       "      <td>2.073128</td>\n",
       "      <td>0.471957</td>\n",
       "      <td>1</td>\n",
       "    </tr>\n",
       "    <tr>\n",
       "      <th>3</th>\n",
       "      <td>535</td>\n",
       "      <td>0.039490</td>\n",
       "      <td>0.369841</td>\n",
       "      <td>-3.410317</td>\n",
       "      <td>-1.323388</td>\n",
       "      <td>-0.712077</td>\n",
       "      <td>0.135599</td>\n",
       "      <td>-0.516551</td>\n",
       "      <td>-0.865545</td>\n",
       "      <td>1</td>\n",
       "    </tr>\n",
       "    <tr>\n",
       "      <th>4</th>\n",
       "      <td>691</td>\n",
       "      <td>2.698124</td>\n",
       "      <td>1.182687</td>\n",
       "      <td>2.271727</td>\n",
       "      <td>-1.323388</td>\n",
       "      <td>-0.712077</td>\n",
       "      <td>1.341958</td>\n",
       "      <td>-0.647637</td>\n",
       "      <td>0.889927</td>\n",
       "      <td>1</td>\n",
       "    </tr>\n",
       "  </tbody>\n",
       "</table>\n",
       "</div>"
      ],
      "text/plain": [
       "    id  Pregnancies   Glucose  BloodPressure  SkinThickness   Insulin  \\\n",
       "0  377    -0.846722 -1.037009      -0.419767       1.000802 -0.061847   \n",
       "1  370    -0.255914  1.651637       0.676768       1.691778  3.319349   \n",
       "2  408     1.221105  2.401957       0.278028      -1.323388 -0.712077   \n",
       "3  535     0.039490  0.369841      -3.410317      -1.323388 -0.712077   \n",
       "4  691     2.698124  1.182687       2.271727      -1.323388 -0.712077   \n",
       "\n",
       "        BMI  DiabetesPedigreeFunction       Age  Outcome  \n",
       "0  0.687444                  0.086445 -0.949139        0  \n",
       "1  0.841447                  4.828849 -0.698357        1  \n",
       "2 -0.762752                  2.073128  0.471957        1  \n",
       "3  0.135599                 -0.516551 -0.865545        1  \n",
       "4  1.341958                 -0.647637  0.889927        1  "
      ]
     },
     "execution_count": 8,
     "metadata": {},
     "output_type": "execute_result"
    }
   ],
   "source": [
    "train.head()"
   ]
  },
  {
   "cell_type": "code",
   "execution_count": 9,
   "id": "91856e3d",
   "metadata": {},
   "outputs": [],
   "source": [
    "train = train.drop('id', axis=1)\n",
    "test = test.drop('id', axis=1)\n",
    "\n"
   ]
  },
  {
   "cell_type": "code",
   "execution_count": 10,
   "id": "64a4d9ea",
   "metadata": {},
   "outputs": [],
   "source": [
    "target = train.pop(\"Outcome\")"
   ]
  },
  {
   "cell_type": "code",
   "execution_count": 11,
   "id": "c2c3ab2b",
   "metadata": {},
   "outputs": [],
   "source": [
    "from sklearn.ensemble import RandomForestClassifier\n",
    "\n",
    "model = RandomForestClassifier(random_state=2022)\n",
    "model.fit(train, target)\n",
    "predictions = model.predict_proba(test)\n"
   ]
  },
  {
   "cell_type": "code",
   "execution_count": null,
   "id": "d4eabab5",
   "metadata": {},
   "outputs": [],
   "source": [
    "pred = predictions[:,1]\n"
   ]
  },
  {
   "cell_type": "code",
   "execution_count": 16,
   "id": "920c0c2c",
   "metadata": {},
   "outputs": [
    {
     "data": {
      "text/plain": [
       "array([0.59, 0.77, 0.  , 0.83, 0.33, 0.24, 0.57, 0.03, 0.32, 0.34, 0.56,\n",
       "       0.17, 0.1 , 0.72, 0.04, 0.39, 0.32, 0.65, 0.59, 0.56, 0.36, 0.79,\n",
       "       0.03, 0.68, 0.34, 0.2 , 0.64, 0.15, 0.47, 0.74, 0.29, 0.15, 0.74,\n",
       "       0.  , 0.1 , 0.2 , 0.1 , 0.01, 0.06, 0.46, 0.4 , 0.13, 0.49, 0.32,\n",
       "       0.18, 0.18, 0.24, 0.09, 0.28, 0.49, 0.81, 0.56, 0.33, 0.51, 0.55,\n",
       "       0.03, 0.02, 0.76, 0.67, 0.33, 0.21, 0.36, 0.61, 0.22, 0.33, 0.26,\n",
       "       0.45, 0.26, 0.39, 0.31, 0.51, 0.01, 0.27, 0.74, 0.01, 0.77, 0.56,\n",
       "       0.66, 0.44, 0.05, 0.03, 0.27, 0.2 , 0.42, 0.1 , 0.54, 0.13, 0.06,\n",
       "       0.  , 0.79, 0.  , 0.45, 0.67, 0.28, 0.43, 0.44, 0.23, 0.32, 0.16,\n",
       "       0.25, 0.78, 0.47, 0.21, 0.44, 0.27, 0.12, 0.4 , 0.19, 0.24, 0.73,\n",
       "       0.08, 0.15, 0.79, 0.  , 0.23, 0.  , 0.62, 0.04, 0.01, 0.7 , 0.25,\n",
       "       0.5 , 0.76, 0.43, 0.63, 0.01, 0.64, 0.31, 0.02, 0.21, 0.41, 0.15,\n",
       "       0.1 , 0.46, 0.83, 0.06, 0.13, 0.26, 0.56, 0.45, 0.53, 0.06, 0.  ,\n",
       "       0.26, 0.  , 0.4 , 0.57, 0.84, 0.  , 0.15, 0.03, 0.35, 0.  , 0.12,\n",
       "       0.39, 0.35, 0.34, 0.31, 0.8 , 0.2 , 0.4 , 0.6 , 0.77, 0.78, 0.51,\n",
       "       0.08, 0.07, 0.34, 0.46, 0.02, 0.12, 0.23, 0.2 , 0.6 , 0.4 , 0.49,\n",
       "       0.54, 0.02, 0.29, 0.01, 0.72, 0.74, 0.54, 0.48, 0.  , 0.7 , 0.05,\n",
       "       0.91, 0.16, 0.84, 0.59, 0.19])"
      ]
     },
     "execution_count": 16,
     "metadata": {},
     "output_type": "execute_result"
    }
   ],
   "source": [
    "predictions[:,1]"
   ]
  },
  {
   "cell_type": "code",
   "execution_count": 13,
   "id": "0122f4d9",
   "metadata": {},
   "outputs": [],
   "source": [
    "output = pd.DataFrame({'pred' : pred})\n",
    "\n",
    "output.to_csv('result.csv', index=False)"
   ]
  },
  {
   "cell_type": "code",
   "execution_count": null,
   "id": "2eff7acd",
   "metadata": {},
   "outputs": [],
   "source": []
  }
 ],
 "metadata": {
  "kernelspec": {
   "display_name": "base",
   "language": "python",
   "name": "python3"
  },
  "language_info": {
   "codemirror_mode": {
    "name": "ipython",
    "version": 3
   },
   "file_extension": ".py",
   "mimetype": "text/x-python",
   "name": "python",
   "nbconvert_exporter": "python",
   "pygments_lexer": "ipython3",
   "version": "3.12.4"
  }
 },
 "nbformat": 4,
 "nbformat_minor": 5
}
