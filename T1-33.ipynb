{
 "cells": [
  {
   "cell_type": "code",
   "execution_count": 1,
   "id": "3e089181",
   "metadata": {},
   "outputs": [],
   "source": [
    "import pandas as pd\n",
    "import numpy as np"
   ]
  },
  {
   "cell_type": "code",
   "execution_count": 2,
   "id": "c5462399",
   "metadata": {},
   "outputs": [
    {
     "data": {
      "text/html": [
       "<div>\n",
       "<style scoped>\n",
       "    .dataframe tbody tr th:only-of-type {\n",
       "        vertical-align: middle;\n",
       "    }\n",
       "\n",
       "    .dataframe tbody tr th {\n",
       "        vertical-align: top;\n",
       "    }\n",
       "\n",
       "    .dataframe thead th {\n",
       "        text-align: right;\n",
       "    }\n",
       "</style>\n",
       "<table border=\"1\" class=\"dataframe\">\n",
       "  <thead>\n",
       "    <tr style=\"text-align: right;\">\n",
       "      <th></th>\n",
       "      <th>UserID</th>\n",
       "      <th>StartTime</th>\n",
       "      <th>EndTime</th>\n",
       "      <th>Page</th>\n",
       "    </tr>\n",
       "  </thead>\n",
       "  <tbody>\n",
       "    <tr>\n",
       "      <th>0</th>\n",
       "      <td>1</td>\n",
       "      <td>2023-07-02 08:32:00</td>\n",
       "      <td>2023-07-02 12:41:00</td>\n",
       "      <td>Page1</td>\n",
       "    </tr>\n",
       "    <tr>\n",
       "      <th>1</th>\n",
       "      <td>1</td>\n",
       "      <td>2023-05-16 11:37:00</td>\n",
       "      <td>2023-05-16 13:29:00</td>\n",
       "      <td>Page5</td>\n",
       "    </tr>\n",
       "    <tr>\n",
       "      <th>2</th>\n",
       "      <td>1</td>\n",
       "      <td>2023-05-05 03:39:00</td>\n",
       "      <td>2023-05-05 05:48:00</td>\n",
       "      <td>Page2</td>\n",
       "    </tr>\n",
       "    <tr>\n",
       "      <th>3</th>\n",
       "      <td>1</td>\n",
       "      <td>2023-05-04 23:04:00</td>\n",
       "      <td>2023-05-05 01:54:00</td>\n",
       "      <td>Page3</td>\n",
       "    </tr>\n",
       "    <tr>\n",
       "      <th>4</th>\n",
       "      <td>1</td>\n",
       "      <td>2023-09-04 11:27:00</td>\n",
       "      <td>2023-09-04 14:09:00</td>\n",
       "      <td>Page1</td>\n",
       "    </tr>\n",
       "  </tbody>\n",
       "</table>\n",
       "</div>"
      ],
      "text/plain": [
       "   UserID            StartTime              EndTime   Page\n",
       "0       1  2023-07-02 08:32:00  2023-07-02 12:41:00  Page1\n",
       "1       1  2023-05-16 11:37:00  2023-05-16 13:29:00  Page5\n",
       "2       1  2023-05-05 03:39:00  2023-05-05 05:48:00  Page2\n",
       "3       1  2023-05-04 23:04:00  2023-05-05 01:54:00  Page3\n",
       "4       1  2023-09-04 11:27:00  2023-09-04 14:09:00  Page1"
      ]
     },
     "execution_count": 2,
     "metadata": {},
     "output_type": "execute_result"
    }
   ],
   "source": [
    "df = pd.read_csv('archive/website.csv')\n",
    "\n",
    "df.head()"
   ]
  },
  {
   "cell_type": "code",
   "execution_count": 3,
   "id": "3451aae3",
   "metadata": {},
   "outputs": [
    {
     "name": "stdout",
     "output_type": "stream",
     "text": [
      "<class 'pandas.core.frame.DataFrame'>\n",
      "RangeIndex: 9601 entries, 0 to 9600\n",
      "Data columns (total 4 columns):\n",
      " #   Column     Non-Null Count  Dtype \n",
      "---  ------     --------------  ----- \n",
      " 0   UserID     9601 non-null   int64 \n",
      " 1   StartTime  9601 non-null   object\n",
      " 2   EndTime    9601 non-null   object\n",
      " 3   Page       9601 non-null   object\n",
      "dtypes: int64(1), object(3)\n",
      "memory usage: 300.2+ KB\n"
     ]
    }
   ],
   "source": [
    "df.info()"
   ]
  },
  {
   "cell_type": "code",
   "execution_count": 4,
   "id": "313c6e9f",
   "metadata": {},
   "outputs": [
    {
     "name": "stdout",
     "output_type": "stream",
     "text": [
      "300.0\n"
     ]
    }
   ],
   "source": [
    "df['StartTime'] = pd.to_datetime(df['StartTime'])\n",
    "df['EndTime'] = pd.to_datetime(df['EndTime'])\n",
    "df['SessionDuration'] = (df['EndTime'] - df['StartTime']).dt.total_seconds() / 60\n",
    "print(df['SessionDuration'].max())"
   ]
  },
  {
   "cell_type": "code",
   "execution_count": 9,
   "id": "93c2e959",
   "metadata": {},
   "outputs": [
    {
     "name": "stdout",
     "output_type": "stream",
     "text": [
      "3\n"
     ]
    }
   ],
   "source": [
    "most_visited_page = df['Page'].value_counts().idxmax()\n",
    "cond = (df['Page'] == most_visited_page)\n",
    "result = df[cond]['SessionDuration'].mean()\n",
    "print(round(result/60))"
   ]
  },
  {
   "cell_type": "code",
   "execution_count": 12,
   "id": "8bc9fdd1",
   "metadata": {},
   "outputs": [
    {
     "name": "stdout",
     "output_type": "stream",
     "text": [
      "TimeSlot\n",
      "새벽    2447\n",
      "Name: count, dtype: int64\n"
     ]
    }
   ],
   "source": [
    "def time_slot(hour) : \n",
    "    if 0 <= hour < 6 :\n",
    "        return \"새벽\"\n",
    "    elif 6 <= hour < 12 :\n",
    "        return \"오전\"\n",
    "    elif 12 <= hour < 18 :\n",
    "        return \"오후\"\n",
    "    else :\n",
    "        return \"저녁\"\n",
    "    \n",
    "df['TimeSlot'] = df['StartTime'].dt.hour.apply(time_slot)\n",
    "print(df['TimeSlot'].value_counts().iloc[:1])\n"
   ]
  },
  {
   "cell_type": "code",
   "execution_count": null,
   "id": "910c6ef5",
   "metadata": {},
   "outputs": [],
   "source": []
  }
 ],
 "metadata": {
  "kernelspec": {
   "display_name": "base",
   "language": "python",
   "name": "python3"
  },
  "language_info": {
   "codemirror_mode": {
    "name": "ipython",
    "version": 3
   },
   "file_extension": ".py",
   "mimetype": "text/x-python",
   "name": "python",
   "nbconvert_exporter": "python",
   "pygments_lexer": "ipython3",
   "version": "3.12.4"
  }
 },
 "nbformat": 4,
 "nbformat_minor": 5
}
